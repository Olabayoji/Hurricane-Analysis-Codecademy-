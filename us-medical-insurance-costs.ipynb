{
 "cells": [
  {
   "cell_type": "markdown",
   "metadata": {},
   "source": [
    "# U.S. Medical Insurance Costs"
   ]
  },
  {
   "cell_type": "code",
   "execution_count": 91,
   "metadata": {},
   "outputs": [],
   "source": [
    "import csv\n",
    "from decimal import Decimal"
   ]
  },
  {
   "cell_type": "code",
   "execution_count": 92,
   "metadata": {},
   "outputs": [],
   "source": [
    "ages = []\n",
    "sexes = []\n",
    "bmis = []\n",
    "smoker_stat = []\n",
    "num_children = []\n",
    "regions = []\n",
    "insurance_charges = []"
   ]
  },
  {
   "cell_type": "code",
   "execution_count": 93,
   "metadata": {},
   "outputs": [],
   "source": [
    "def load_list(csv_file, lst, column_name):\n",
    "    with open(csv_file) as csv_info:\n",
    "        insurance_reader = csv.DictReader(csv_info)\n",
    "        for row in insurance_reader:\n",
    "            lst.append(row[column_name])\n",
    "    return lst"
   ]
  },
  {
   "cell_type": "code",
   "execution_count": 95,
   "metadata": {},
   "outputs": [],
   "source": [
    "class PatientsInfo:\n",
    "    def __init__(self, ages, sexes, bmis, smoker_stat, num_children, regions, insurance_charges):\n",
    "        self.ages = ages \n",
    "        self.sexes = sexes\n",
    "        self.bmis = bmis\n",
    "        self.smoker_stat = smoker_stat\n",
    "        self.num_children = num_children\n",
    "        self.regions = regions\n",
    "        self.insurance_charges = insurance_charges\n",
    "    def analyze_ages(self):\n",
    "        total_age = 0\n",
    "        for ages in self.ages:\n",
    "            total_age += int(ages)\n",
    "        average_age = total_age / (len(self.ages))\n",
    "        return 'The average Patient Age is', average_age\n",
    "    \n",
    "    def analyze_sexes(self):\n",
    "        male_count = 0\n",
    "        female_count = 0\n",
    "        for sex in self.sexes:\n",
    "            if sex.lower() == 'male':\n",
    "                male_count += 1\n",
    "            elif sex.lower() == 'female':\n",
    "                female_count += 1\n",
    "        return 'Total number of Male is', male_count,  'Total number of Female is', female_count\n",
    "    def unique_region(self):\n",
    "        Regions= []\n",
    "        Region_count = []\n",
    "        for region in self.regions:\n",
    "            if region not in Regions:\n",
    "                Regions.append(region)\n",
    "                Region_count.append(0)\n",
    "            elif region in Regions:\n",
    "                continue \n",
    "        Region_dictionary = {key:value for key,value in zip(Regions,Region_count)}\n",
    "        for region in self.regions:\n",
    "            Region_dictionary[region] += 1\n",
    "        return Region_dictionary\n",
    "    def average_charges(self):\n",
    "        total_charge = 0\n",
    "        for charges in self.insurance_charges:\n",
    "            total_charge += float(charges)\n",
    "        return 'Average Yearly Medical Insurance Charges:', round(((total_charge / len(self.insurance_charges))),2),'dollars'\n",
    "    def create_dictionary(self):\n",
    "        self.patients_dictionary = {}\n",
    "        self.patients_dictionary['age'] = self.ages\n",
    "        self.patients_dictionary['sex'] = self.sexes\n",
    "        self.patients_dictionary['bmi'] = self.bmis\n",
    "        self.patients_dictionary['children'] = self.num_children\n",
    "        self.patients_dictionary['smoker'] = self.smoker_stat\n",
    "        self.patients_dictionary['region'] = self.regions\n",
    "        self.patients_dictionary['charges'] = self.insurance_charges\n",
    "        return self.patients_dictionary\n",
    "        \n"
   ]
  },
  {
   "cell_type": "code",
   "execution_count": null,
   "metadata": {},
   "outputs": [],
   "source": []
  }
 ],
 "metadata": {
  "kernelspec": {
   "display_name": "Python 3",
   "language": "python",
   "name": "python3"
  },
  "language_info": {
   "codemirror_mode": {
    "name": "ipython",
    "version": 3
   },
   "file_extension": ".py",
   "mimetype": "text/x-python",
   "name": "python",
   "nbconvert_exporter": "python",
   "pygments_lexer": "ipython3",
   "version": "3.8.5"
  }
 },
 "nbformat": 4,
 "nbformat_minor": 4
}
